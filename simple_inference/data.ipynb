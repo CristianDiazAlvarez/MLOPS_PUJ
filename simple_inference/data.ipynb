{
 "cells": [
  {
   "cell_type": "code",
   "execution_count": 1,
   "metadata": {},
   "outputs": [
    {
     "name": "stdout",
     "output_type": "stream",
     "text": [
      "--2023-02-05 21:16:02--  https://docs.google.com/uc?export=download&id=1ZsJWYHxcEdJQdb62diQf8o3fvXFawt1a\n",
      "Resolving docs.google.com (docs.google.com)... 142.250.78.46, 2800:3f0:4005:408::200e\n",
      "Connecting to docs.google.com (docs.google.com)|142.250.78.46|:443... connected.\n",
      "HTTP request sent, awaiting response... 303 See Other\n",
      "Location: https://doc-0k-6c-docs.googleusercontent.com/docs/securesc/ha0ro937gcuc7l7deffksulhg5h7mbp1/ulaqg5g4ln1pak8apemaoiuol1ivcge6/1675649700000/03070346628187686991/*/1ZsJWYHxcEdJQdb62diQf8o3fvXFawt1a?e=download&uuid=2ab02631-b00b-4d96-a427-fa437a13270c [following]\n",
      "Warning: wildcards not supported in HTTP.\n",
      "--2023-02-05 21:16:03--  https://doc-0k-6c-docs.googleusercontent.com/docs/securesc/ha0ro937gcuc7l7deffksulhg5h7mbp1/ulaqg5g4ln1pak8apemaoiuol1ivcge6/1675649700000/03070346628187686991/*/1ZsJWYHxcEdJQdb62diQf8o3fvXFawt1a?e=download&uuid=2ab02631-b00b-4d96-a427-fa437a13270c\n",
      "Resolving doc-0k-6c-docs.googleusercontent.com (doc-0k-6c-docs.googleusercontent.com)... 142.250.78.129, 2800:3f0:4005:40b::2001\n",
      "Connecting to doc-0k-6c-docs.googleusercontent.com (doc-0k-6c-docs.googleusercontent.com)|142.250.78.129|:443... connected.\n",
      "HTTP request sent, awaiting response... 200 OK\n",
      "Length: 100951 (99K) [text/csv]\n",
      "Saving to: ‘wine.csv’\n",
      "\n",
      "wine.csv            100%[===================>]  98,58K  --.-KB/s    in 0,1s    \n",
      "\n",
      "2023-02-05 21:16:04 (792 KB/s) - ‘wine.csv’ saved [100951/100951]\n",
      "\n"
     ]
    }
   ],
   "source": [
    "#!wget --no-check-certificate 'https://docs.google.com/uc?export=download&id=1WsTJN-u4YRrPKqJTp8h8iUSAdfJC8_qn' -O house_price.csv\n",
    "#!wget --no-check-certificate 'https://docs.google.com/uc?export=download&id=1GM3vMhalo6nkstKoCnE7cg_cSg179IJA' -O output.csv\n",
    "#!wget --no-check-certificate 'https://docs.google.com/uc?export=download&id=1mw4HxSPCgPonXshqNjVLZBAxUVeYHvY-' -O amazon_dataset.csv\n",
    "!wget --no-check-certificate 'https://docs.google.com/uc?export=download&id=1ZsJWYHxcEdJQdb62diQf8o3fvXFawt1a' -O wine.csv"
   ]
  },
  {
   "cell_type": "code",
   "execution_count": 2,
   "metadata": {},
   "outputs": [],
   "source": [
    "import pandas as pd\n",
    "from sklearn import metrics\n",
    "from sklearn.model_selection import train_test_split\n",
    "from sklearn.tree import DecisionTreeClassifier\n",
    "from sklearn.svm import SVC\n",
    "import matplotlib.pyplot as plt\n"
   ]
  },
  {
   "cell_type": "code",
   "execution_count": 3,
   "metadata": {},
   "outputs": [
    {
     "data": {
      "text/html": [
       "<div>\n",
       "<style scoped>\n",
       "    .dataframe tbody tr th:only-of-type {\n",
       "        vertical-align: middle;\n",
       "    }\n",
       "\n",
       "    .dataframe tbody tr th {\n",
       "        vertical-align: top;\n",
       "    }\n",
       "\n",
       "    .dataframe thead th {\n",
       "        text-align: right;\n",
       "    }\n",
       "</style>\n",
       "<table border=\"1\" class=\"dataframe\">\n",
       "  <thead>\n",
       "    <tr style=\"text-align: right;\">\n",
       "      <th></th>\n",
       "      <th>fixed acidity</th>\n",
       "      <th>volatile acidity</th>\n",
       "      <th>citric acid</th>\n",
       "      <th>residual sugar</th>\n",
       "      <th>chlorides</th>\n",
       "      <th>free sulfur dioxide</th>\n",
       "      <th>total sulfur dioxide</th>\n",
       "      <th>density</th>\n",
       "      <th>pH</th>\n",
       "      <th>sulphates</th>\n",
       "      <th>alcohol</th>\n",
       "      <th>quality</th>\n",
       "    </tr>\n",
       "  </thead>\n",
       "  <tbody>\n",
       "    <tr>\n",
       "      <th>0</th>\n",
       "      <td>7.4</td>\n",
       "      <td>0.70</td>\n",
       "      <td>0.00</td>\n",
       "      <td>1.9</td>\n",
       "      <td>0.076</td>\n",
       "      <td>11.0</td>\n",
       "      <td>34.0</td>\n",
       "      <td>0.9978</td>\n",
       "      <td>3.51</td>\n",
       "      <td>0.56</td>\n",
       "      <td>9.4</td>\n",
       "      <td>5</td>\n",
       "    </tr>\n",
       "    <tr>\n",
       "      <th>1</th>\n",
       "      <td>7.8</td>\n",
       "      <td>0.88</td>\n",
       "      <td>0.00</td>\n",
       "      <td>2.6</td>\n",
       "      <td>0.098</td>\n",
       "      <td>25.0</td>\n",
       "      <td>67.0</td>\n",
       "      <td>0.9968</td>\n",
       "      <td>3.20</td>\n",
       "      <td>0.68</td>\n",
       "      <td>9.8</td>\n",
       "      <td>5</td>\n",
       "    </tr>\n",
       "    <tr>\n",
       "      <th>2</th>\n",
       "      <td>7.8</td>\n",
       "      <td>0.76</td>\n",
       "      <td>0.04</td>\n",
       "      <td>2.3</td>\n",
       "      <td>0.092</td>\n",
       "      <td>15.0</td>\n",
       "      <td>54.0</td>\n",
       "      <td>0.9970</td>\n",
       "      <td>3.26</td>\n",
       "      <td>0.65</td>\n",
       "      <td>9.8</td>\n",
       "      <td>5</td>\n",
       "    </tr>\n",
       "    <tr>\n",
       "      <th>3</th>\n",
       "      <td>11.2</td>\n",
       "      <td>0.28</td>\n",
       "      <td>0.56</td>\n",
       "      <td>1.9</td>\n",
       "      <td>0.075</td>\n",
       "      <td>17.0</td>\n",
       "      <td>60.0</td>\n",
       "      <td>0.9980</td>\n",
       "      <td>3.16</td>\n",
       "      <td>0.58</td>\n",
       "      <td>9.8</td>\n",
       "      <td>6</td>\n",
       "    </tr>\n",
       "    <tr>\n",
       "      <th>4</th>\n",
       "      <td>7.4</td>\n",
       "      <td>0.70</td>\n",
       "      <td>0.00</td>\n",
       "      <td>1.9</td>\n",
       "      <td>0.076</td>\n",
       "      <td>11.0</td>\n",
       "      <td>34.0</td>\n",
       "      <td>0.9978</td>\n",
       "      <td>3.51</td>\n",
       "      <td>0.56</td>\n",
       "      <td>9.4</td>\n",
       "      <td>5</td>\n",
       "    </tr>\n",
       "  </tbody>\n",
       "</table>\n",
       "</div>"
      ],
      "text/plain": [
       "   fixed acidity  volatile acidity  citric acid  residual sugar  chlorides  \\\n",
       "0            7.4              0.70         0.00             1.9      0.076   \n",
       "1            7.8              0.88         0.00             2.6      0.098   \n",
       "2            7.8              0.76         0.04             2.3      0.092   \n",
       "3           11.2              0.28         0.56             1.9      0.075   \n",
       "4            7.4              0.70         0.00             1.9      0.076   \n",
       "\n",
       "   free sulfur dioxide  total sulfur dioxide  density    pH  sulphates  \\\n",
       "0                 11.0                  34.0   0.9978  3.51       0.56   \n",
       "1                 25.0                  67.0   0.9968  3.20       0.68   \n",
       "2                 15.0                  54.0   0.9970  3.26       0.65   \n",
       "3                 17.0                  60.0   0.9980  3.16       0.58   \n",
       "4                 11.0                  34.0   0.9978  3.51       0.56   \n",
       "\n",
       "   alcohol  quality  \n",
       "0      9.4        5  \n",
       "1      9.8        5  \n",
       "2      9.8        5  \n",
       "3      9.8        6  \n",
       "4      9.4        5  "
      ]
     },
     "execution_count": 3,
     "metadata": {},
     "output_type": "execute_result"
    }
   ],
   "source": [
    "df = pd.read_csv('wine.csv')\n",
    "df.head()"
   ]
  },
  {
   "cell_type": "code",
   "execution_count": 4,
   "metadata": {},
   "outputs": [],
   "source": [
    "def show_distribution(df:pd.DataFrame, col:str):\n",
    "    print(df[col].value_counts().describe())\n",
    "    df.hist(col)"
   ]
  },
  {
   "cell_type": "code",
   "execution_count": 5,
   "metadata": {},
   "outputs": [
    {
     "name": "stdout",
     "output_type": "stream",
     "text": [
      "count    96.000000\n",
      "mean     16.656250\n",
      "std      16.254443\n",
      "min       1.000000\n",
      "25%       4.000000\n",
      "50%      11.500000\n",
      "75%      26.000000\n",
      "max      67.000000\n",
      "Name: fixed acidity, dtype: float64\n"
     ]
    },
    {
     "data": {
      "image/png": "[encoded data removed]",
      "text/plain": [
       "<Figure size 640x480 with 1 Axes>"
      ]
     },
     "metadata": {},
     "output_type": "display_data"
    }
   ],
   "source": [
    "\n",
    "show_distribution(df, 'fixed acidity')"
   ]
  },
  {
   "cell_type": "code",
   "execution_count": 6,
   "metadata": {},
   "outputs": [
    {
     "name": "stdout",
     "output_type": "stream",
     "text": [
      "count    143.000000\n",
      "mean      11.181818\n",
      "std       12.228250\n",
      "min        1.000000\n",
      "25%        2.000000\n",
      "50%        5.000000\n",
      "75%       20.500000\n",
      "max       47.000000\n",
      "Name: volatile acidity, dtype: float64\n"
     ]
    },
    {
     "data": {
      "image/png": "[encoded data removed]",
      "text/plain": [
       "<Figure size 640x480 with 1 Axes>"
      ]
     },
     "metadata": {},
     "output_type": "display_data"
    }
   ],
   "source": [
    "show_distribution(df, 'volatile acidity')"
   ]
  },
  {
   "cell_type": "code",
   "execution_count": 7,
   "metadata": {},
   "outputs": [
    {
     "name": "stdout",
     "output_type": "stream",
     "text": [
      "count     80.000000\n",
      "mean      19.987500\n",
      "std       17.844968\n",
      "min        1.000000\n",
      "25%        9.000000\n",
      "50%       19.000000\n",
      "75%       27.000000\n",
      "max      132.000000\n",
      "Name: citric acid, dtype: float64\n"
     ]
    },
    {
     "data": {
      "image/png": "[encoded data removed]",
      "text/plain": [
       "<Figure size 640x480 with 1 Axes>"
      ]
     },
     "metadata": {},
     "output_type": "display_data"
    }
   ],
   "source": [
    "show_distribution(df, 'citric acid')"
   ]
  },
  {
   "cell_type": "code",
   "execution_count": 8,
   "metadata": {},
   "outputs": [
    {
     "name": "stdout",
     "output_type": "stream",
     "text": [
      "count     91.000000\n",
      "mean      17.571429\n",
      "std       35.057142\n",
      "min        1.000000\n",
      "25%        1.000000\n",
      "50%        3.000000\n",
      "75%        8.000000\n",
      "max      156.000000\n",
      "Name: residual sugar, dtype: float64\n"
     ]
    },
    {
     "data": {
      "image/png": "[encoded data removed]",
      "text/plain": [
       "<Figure size 640x480 with 1 Axes>"
      ]
     },
     "metadata": {},
     "output_type": "display_data"
    }
   ],
   "source": [
    "show_distribution(df, 'residual sugar')"
   ]
  },
  {
   "cell_type": "code",
   "execution_count": 9,
   "metadata": {},
   "outputs": [
    {
     "name": "stdout",
     "output_type": "stream",
     "text": [
      "count    153.00000\n",
      "mean      10.45098\n",
      "std       14.08664\n",
      "min        1.00000\n",
      "25%        1.00000\n",
      "50%        3.00000\n",
      "75%       16.00000\n",
      "max       66.00000\n",
      "Name: chlorides, dtype: float64\n"
     ]
    },
    {
     "data": {
      "image/png": "[encoded data removed]",
      "text/plain": [
       "<Figure size 640x480 with 1 Axes>"
      ]
     },
     "metadata": {},
     "output_type": "display_data"
    }
   ],
   "source": [
    "show_distribution(df, 'chlorides')"
   ]
  },
  {
   "cell_type": "code",
   "execution_count": 10,
   "metadata": {},
   "outputs": [
    {
     "name": "stdout",
     "output_type": "stream",
     "text": [
      "count     60.000000\n",
      "mean      26.650000\n",
      "std       29.820267\n",
      "min        1.000000\n",
      "25%        3.000000\n",
      "50%       17.000000\n",
      "75%       42.250000\n",
      "max      138.000000\n",
      "Name: free sulfur dioxide, dtype: float64\n"
     ]
    },
    {
     "data": {
      "image/png": "[encoded data removed]",
      "text/plain": [
       "<Figure size 640x480 with 1 Axes>"
      ]
     },
     "metadata": {},
     "output_type": "display_data"
    }
   ],
   "source": [
    "show_distribution(df, 'free sulfur dioxide')"
   ]
  },
  {
   "cell_type": "code",
   "execution_count": 11,
   "metadata": {},
   "outputs": [
    {
     "name": "stdout",
     "output_type": "stream",
     "text": [
      "count    144.000000\n",
      "mean      11.104167\n",
      "std       10.186869\n",
      "min        1.000000\n",
      "25%        3.000000\n",
      "50%        7.000000\n",
      "75%       17.000000\n",
      "max       43.000000\n",
      "Name: total sulfur dioxide, dtype: float64\n"
     ]
    },
    {
     "data": {
      "image/png": "[encoded data removed]",
      "text/plain": [
       "<Figure size 640x480 with 1 Axes>"
      ]
     },
     "metadata": {},
     "output_type": "display_data"
    }
   ],
   "source": [
    "show_distribution(df, 'total sulfur dioxide')"
   ]
  },
  {
   "cell_type": "code",
   "execution_count": 12,
   "metadata": {},
   "outputs": [
    {
     "name": "stdout",
     "output_type": "stream",
     "text": [
      "count    436.000000\n",
      "mean       3.667431\n",
      "std        5.161034\n",
      "min        1.000000\n",
      "25%        1.000000\n",
      "50%        2.000000\n",
      "75%        4.000000\n",
      "max       36.000000\n",
      "Name: density, dtype: float64\n"
     ]
    },
    {
     "data": {
      "image/png": "[encoded data removed]",
      "text/plain": [
       "<Figure size 640x480 with 1 Axes>"
      ]
     },
     "metadata": {},
     "output_type": "display_data"
    }
   ],
   "source": [
    "show_distribution(df, 'density')"
   ]
  },
  {
   "cell_type": "code",
   "execution_count": 13,
   "metadata": {},
   "outputs": [
    {
     "name": "stdout",
     "output_type": "stream",
     "text": [
      "count    89.000000\n",
      "mean     17.966292\n",
      "std      15.907009\n",
      "min       1.000000\n",
      "25%       4.000000\n",
      "50%      11.000000\n",
      "75%      32.000000\n",
      "max      57.000000\n",
      "Name: pH, dtype: float64\n"
     ]
    },
    {
     "data": {
      "image/png": "[encoded data removed]",
      "text/plain": [
       "<Figure size 640x480 with 1 Axes>"
      ]
     },
     "metadata": {},
     "output_type": "display_data"
    }
   ],
   "source": [
    "show_distribution(df, 'pH')"
   ]
  },
  {
   "cell_type": "code",
   "execution_count": 14,
   "metadata": {},
   "outputs": [
    {
     "name": "stdout",
     "output_type": "stream",
     "text": [
      "count    96.000000\n",
      "mean     16.656250\n",
      "std      18.926355\n",
      "min       1.000000\n",
      "25%       2.000000\n",
      "50%       7.500000\n",
      "75%      26.000000\n",
      "max      69.000000\n",
      "Name: sulphates, dtype: float64\n"
     ]
    },
    {
     "data": {
      "image/png": "[encoded data removed]",
      "text/plain": [
       "<Figure size 640x480 with 1 Axes>"
      ]
     },
     "metadata": {},
     "output_type": "display_data"
    }
   ],
   "source": [
    "show_distribution(df, 'sulphates')"
   ]
  },
  {
   "cell_type": "code",
   "execution_count": 15,
   "metadata": {},
   "outputs": [
    {
     "name": "stdout",
     "output_type": "stream",
     "text": [
      "count     65.000000\n",
      "mean      24.600000\n",
      "std       27.930047\n",
      "min        1.000000\n",
      "25%        2.000000\n",
      "50%       15.000000\n",
      "75%       36.000000\n",
      "max      139.000000\n",
      "Name: alcohol, dtype: float64\n"
     ]
    },
    {
     "data": {
      "image/png": "[encoded data removed]",
      "text/plain": [
       "<Figure size 640x480 with 1 Axes>"
      ]
     },
     "metadata": {},
     "output_type": "display_data"
    }
   ],
   "source": [
    "show_distribution(df, 'alcohol')"
   ]
  },
  {
   "cell_type": "code",
   "execution_count": 16,
   "metadata": {},
   "outputs": [
    {
     "name": "stdout",
     "output_type": "stream",
     "text": [
      "count      6.000000\n",
      "mean     266.500000\n",
      "std      312.251661\n",
      "min       10.000000\n",
      "25%       26.750000\n",
      "50%      126.000000\n",
      "75%      528.250000\n",
      "max      681.000000\n",
      "Name: quality, dtype: float64\n"
     ]
    },
    {
     "data": {
      "image/png": "[encoded data removed]",
      "text/plain": [
       "<Figure size 640x480 with 1 Axes>"
      ]
     },
     "metadata": {},
     "output_type": "display_data"
    }
   ],
   "source": [
    "show_distribution(df, 'quality')"
   ]
  },
  {
   "cell_type": "code",
   "execution_count": 18,
   "metadata": {},
   "outputs": [
    {
     "data": {
      "text/html": [
       "<style type=\"text/css\">\n",
       "#T_22cff_row0_col0, #T_22cff_row1_col1, #T_22cff_row2_col2, #T_22cff_row3_col3, #T_22cff_row4_col4, #T_22cff_row5_col5, #T_22cff_row6_col6, #T_22cff_row7_col7, #T_22cff_row8_col8, #T_22cff_row9_col9, #T_22cff_row10_col10, #T_22cff_row11_col11 {\n",
       "  background-color: #b40426;\n",
       "  color: #f1f1f1;\n",
       "}\n",
       "#T_22cff_row0_col1, #T_22cff_row4_col11, #T_22cff_row9_col1 {\n",
       "  background-color: #779af7;\n",
       "  color: #f1f1f1;\n",
       "}\n",
       "#T_22cff_row0_col2 {\n",
       "  background-color: #f08a6c;\n",
       "  color: #f1f1f1;\n",
       "}\n",
       "#T_22cff_row0_col3, #T_22cff_row4_col10 {\n",
       "  background-color: #7699f6;\n",
       "  color: #f1f1f1;\n",
       "}\n",
       "#T_22cff_row0_col4 {\n",
       "  background-color: #98b9ff;\n",
       "  color: #000000;\n",
       "}\n",
       "#T_22cff_row0_col5, #T_22cff_row0_col8, #T_22cff_row1_col2, #T_22cff_row1_col9, #T_22cff_row1_col11, #T_22cff_row2_col1, #T_22cff_row7_col10, #T_22cff_row8_col0, #T_22cff_row8_col3, #T_22cff_row8_col4, #T_22cff_row10_col6, #T_22cff_row10_col7 {\n",
       "  background-color: #3b4cc0;\n",
       "  color: #f1f1f1;\n",
       "}\n",
       "#T_22cff_row0_col6 {\n",
       "  background-color: #516ddb;\n",
       "  color: #f1f1f1;\n",
       "}\n",
       "#T_22cff_row0_col7 {\n",
       "  background-color: #f18d6f;\n",
       "  color: #f1f1f1;\n",
       "}\n",
       "#T_22cff_row0_col9, #T_22cff_row3_col8 {\n",
       "  background-color: #b1cbfc;\n",
       "  color: #000000;\n",
       "}\n",
       "#T_22cff_row0_col10, #T_22cff_row3_col11 {\n",
       "  background-color: #9bbcff;\n",
       "  color: #000000;\n",
       "}\n",
       "#T_22cff_row0_col11, #T_22cff_row2_col4, #T_22cff_row7_col1, #T_22cff_row7_col4, #T_22cff_row10_col0 {\n",
       "  background-color: #b6cefa;\n",
       "  color: #000000;\n",
       "}\n",
       "#T_22cff_row1_col0, #T_22cff_row3_col4, #T_22cff_row5_col3 {\n",
       "  background-color: #8db0fe;\n",
       "  color: #000000;\n",
       "}\n",
       "#T_22cff_row1_col3, #T_22cff_row2_col5 {\n",
       "  background-color: #536edd;\n",
       "  color: #f1f1f1;\n",
       "}\n",
       "#T_22cff_row1_col4 {\n",
       "  background-color: #90b2fe;\n",
       "  color: #000000;\n",
       "}\n",
       "#T_22cff_row1_col5 {\n",
       "  background-color: #6180e9;\n",
       "  color: #f1f1f1;\n",
       "}\n",
       "#T_22cff_row1_col6 {\n",
       "  background-color: #86a9fc;\n",
       "  color: #f1f1f1;\n",
       "}\n",
       "#T_22cff_row1_col7 {\n",
       "  background-color: #aec9fc;\n",
       "  color: #000000;\n",
       "}\n",
       "#T_22cff_row1_col8 {\n",
       "  background-color: #e8d6cc;\n",
       "  color: #000000;\n",
       "}\n",
       "#T_22cff_row1_col10 {\n",
       "  background-color: #7a9df8;\n",
       "  color: #f1f1f1;\n",
       "}\n",
       "#T_22cff_row2_col0 {\n",
       "  background-color: #ec8165;\n",
       "  color: #f1f1f1;\n",
       "}\n",
       "#T_22cff_row2_col3, #T_22cff_row3_col9, #T_22cff_row5_col4, #T_22cff_row11_col7 {\n",
       "  background-color: #80a3fa;\n",
       "  color: #f1f1f1;\n",
       "}\n",
       "#T_22cff_row2_col6, #T_22cff_row7_col8 {\n",
       "  background-color: #7b9ff9;\n",
       "  color: #f1f1f1;\n",
       "}\n",
       "#T_22cff_row2_col7 {\n",
       "  background-color: #eed0c0;\n",
       "  color: #000000;\n",
       "}\n",
       "#T_22cff_row2_col8, #T_22cff_row9_col3 {\n",
       "  background-color: #5470de;\n",
       "  color: #f1f1f1;\n",
       "}\n",
       "#T_22cff_row2_col9 {\n",
       "  background-color: #d1dae9;\n",
       "  color: #000000;\n",
       "}\n",
       "#T_22cff_row2_col10, #T_22cff_row6_col1, #T_22cff_row7_col3 {\n",
       "  background-color: #c1d4f4;\n",
       "  color: #000000;\n",
       "}\n",
       "#T_22cff_row2_col11 {\n",
       "  background-color: #cdd9ec;\n",
       "  color: #000000;\n",
       "}\n",
       "#T_22cff_row3_col0 {\n",
       "  background-color: #d6dce4;\n",
       "  color: #000000;\n",
       "}\n",
       "#T_22cff_row3_col1 {\n",
       "  background-color: #b2ccfb;\n",
       "  color: #000000;\n",
       "}\n",
       "#T_22cff_row3_col2, #T_22cff_row5_col8 {\n",
       "  background-color: #cedaeb;\n",
       "  color: #000000;\n",
       "}\n",
       "#T_22cff_row3_col5 {\n",
       "  background-color: #9dbdff;\n",
       "  color: #000000;\n",
       "}\n",
       "#T_22cff_row3_col6, #T_22cff_row6_col0 {\n",
       "  background-color: #abc8fd;\n",
       "  color: #000000;\n",
       "}\n",
       "#T_22cff_row3_col7 {\n",
       "  background-color: #edd2c3;\n",
       "  color: #000000;\n",
       "}\n",
       "#T_22cff_row3_col10 {\n",
       "  background-color: #b3cdfb;\n",
       "  color: #000000;\n",
       "}\n",
       "#T_22cff_row4_col0, #T_22cff_row9_col11 {\n",
       "  background-color: #d3dbe7;\n",
       "  color: #000000;\n",
       "}\n",
       "#T_22cff_row4_col1 {\n",
       "  background-color: #bfd3f6;\n",
       "  color: #000000;\n",
       "}\n",
       "#T_22cff_row4_col2 {\n",
       "  background-color: #d9dce1;\n",
       "  color: #000000;\n",
       "}\n",
       "#T_22cff_row4_col3 {\n",
       "  background-color: #6384eb;\n",
       "  color: #f1f1f1;\n",
       "}\n",
       "#T_22cff_row4_col5 {\n",
       "  background-color: #6687ed;\n",
       "  color: #f1f1f1;\n",
       "}\n",
       "#T_22cff_row4_col6 {\n",
       "  background-color: #7ea1fa;\n",
       "  color: #f1f1f1;\n",
       "}\n",
       "#T_22cff_row4_col7 {\n",
       "  background-color: #d4dbe6;\n",
       "  color: #000000;\n",
       "}\n",
       "#T_22cff_row4_col8, #T_22cff_row5_col9, #T_22cff_row6_col4 {\n",
       "  background-color: #8caffe;\n",
       "  color: #000000;\n",
       "}\n",
       "#T_22cff_row4_col9, #T_22cff_row9_col4, #T_22cff_row11_col2 {\n",
       "  background-color: #dddcdc;\n",
       "  color: #000000;\n",
       "}\n",
       "#T_22cff_row5_col0 {\n",
       "  background-color: #a3c2fe;\n",
       "  color: #000000;\n",
       "}\n",
       "#T_22cff_row5_col1 {\n",
       "  background-color: #afcafc;\n",
       "  color: #000000;\n",
       "}\n",
       "#T_22cff_row5_col2, #T_22cff_row5_col7 {\n",
       "  background-color: #a5c3fe;\n",
       "  color: #000000;\n",
       "}\n",
       "#T_22cff_row5_col6 {\n",
       "  background-color: #f6a385;\n",
       "  color: #000000;\n",
       "}\n",
       "#T_22cff_row5_col10, #T_22cff_row9_col8 {\n",
       "  background-color: #9abbff;\n",
       "  color: #000000;\n",
       "}\n",
       "#T_22cff_row5_col11 {\n",
       "  background-color: #8badfd;\n",
       "  color: #000000;\n",
       "}\n",
       "#T_22cff_row6_col2 {\n",
       "  background-color: #b9d0f9;\n",
       "  color: #000000;\n",
       "}\n",
       "#T_22cff_row6_col3 {\n",
       "  background-color: #93b5fe;\n",
       "  color: #000000;\n",
       "}\n",
       "#T_22cff_row6_col5 {\n",
       "  background-color: #f7a889;\n",
       "  color: #000000;\n",
       "}\n",
       "#T_22cff_row6_col7 {\n",
       "  background-color: #bad0f8;\n",
       "  color: #000000;\n",
       "}\n",
       "#T_22cff_row6_col8 {\n",
       "  background-color: #b5cdfa;\n",
       "  color: #000000;\n",
       "}\n",
       "#T_22cff_row6_col9, #T_22cff_row8_col11 {\n",
       "  background-color: #89acfd;\n",
       "  color: #000000;\n",
       "}\n",
       "#T_22cff_row6_col10, #T_22cff_row8_col5 {\n",
       "  background-color: #799cf8;\n",
       "  color: #f1f1f1;\n",
       "}\n",
       "#T_22cff_row6_col11 {\n",
       "  background-color: #688aef;\n",
       "  color: #f1f1f1;\n",
       "}\n",
       "#T_22cff_row7_col0 {\n",
       "  background-color: #ed8366;\n",
       "  color: #f1f1f1;\n",
       "}\n",
       "#T_22cff_row7_col2 {\n",
       "  background-color: #f1cdba;\n",
       "  color: #000000;\n",
       "}\n",
       "#T_22cff_row7_col5, #T_22cff_row8_col6 {\n",
       "  background-color: #5e7de7;\n",
       "  color: #f1f1f1;\n",
       "}\n",
       "#T_22cff_row7_col6 {\n",
       "  background-color: #85a8fc;\n",
       "  color: #f1f1f1;\n",
       "}\n",
       "#T_22cff_row7_col9 {\n",
       "  background-color: #a7c5fe;\n",
       "  color: #000000;\n",
       "}\n",
       "#T_22cff_row7_col11 {\n",
       "  background-color: #6b8df0;\n",
       "  color: #f1f1f1;\n",
       "}\n",
       "#T_22cff_row8_col1 {\n",
       "  background-color: #dedcdb;\n",
       "  color: #000000;\n",
       "}\n",
       "#T_22cff_row8_col2 {\n",
       "  background-color: #3c4ec2;\n",
       "  color: #f1f1f1;\n",
       "}\n",
       "#T_22cff_row8_col7, #T_22cff_row11_col1 {\n",
       "  background-color: #5a78e4;\n",
       "  color: #f1f1f1;\n",
       "}\n",
       "#T_22cff_row8_col9 {\n",
       "  background-color: #4a63d3;\n",
       "  color: #f1f1f1;\n",
       "}\n",
       "#T_22cff_row8_col10 {\n",
       "  background-color: #d5dbe5;\n",
       "  color: #000000;\n",
       "}\n",
       "#T_22cff_row9_col0 {\n",
       "  background-color: #e0dbd8;\n",
       "  color: #000000;\n",
       "}\n",
       "#T_22cff_row9_col2 {\n",
       "  background-color: #ead4c8;\n",
       "  color: #000000;\n",
       "}\n",
       "#T_22cff_row9_col5 {\n",
       "  background-color: #7396f5;\n",
       "  color: #f1f1f1;\n",
       "}\n",
       "#T_22cff_row9_col6 {\n",
       "  background-color: #7da0f9;\n",
       "  color: #f1f1f1;\n",
       "}\n",
       "#T_22cff_row9_col7 {\n",
       "  background-color: #cad8ef;\n",
       "  color: #000000;\n",
       "}\n",
       "#T_22cff_row9_col10 {\n",
       "  background-color: #bed2f6;\n",
       "  color: #000000;\n",
       "}\n",
       "#T_22cff_row10_col1 {\n",
       "  background-color: #84a7fc;\n",
       "  color: #f1f1f1;\n",
       "}\n",
       "#T_22cff_row10_col2 {\n",
       "  background-color: #c9d7f0;\n",
       "  color: #000000;\n",
       "}\n",
       "#T_22cff_row10_col3 {\n",
       "  background-color: #5f7fe8;\n",
       "  color: #f1f1f1;\n",
       "}\n",
       "#T_22cff_row10_col4 {\n",
       "  background-color: #445acc;\n",
       "  color: #f1f1f1;\n",
       "}\n",
       "#T_22cff_row10_col5 {\n",
       "  background-color: #506bda;\n",
       "  color: #f1f1f1;\n",
       "}\n",
       "#T_22cff_row10_col8 {\n",
       "  background-color: #e4d9d2;\n",
       "  color: #000000;\n",
       "}\n",
       "#T_22cff_row10_col9 {\n",
       "  background-color: #97b8ff;\n",
       "  color: #000000;\n",
       "}\n",
       "#T_22cff_row10_col11 {\n",
       "  background-color: #f4c5ad;\n",
       "  color: #000000;\n",
       "}\n",
       "#T_22cff_row11_col0 {\n",
       "  background-color: #d7dce3;\n",
       "  color: #000000;\n",
       "}\n",
       "#T_22cff_row11_col3 {\n",
       "  background-color: #5673e0;\n",
       "  color: #f1f1f1;\n",
       "}\n",
       "#T_22cff_row11_col4 {\n",
       "  background-color: #5b7ae5;\n",
       "  color: #f1f1f1;\n",
       "}\n",
       "#T_22cff_row11_col5 {\n",
       "  background-color: #5572df;\n",
       "  color: #f1f1f1;\n",
       "}\n",
       "#T_22cff_row11_col6 {\n",
       "  background-color: #3f53c6;\n",
       "  color: #f1f1f1;\n",
       "}\n",
       "#T_22cff_row11_col8 {\n",
       "  background-color: #b7cff9;\n",
       "  color: #000000;\n",
       "}\n",
       "#T_22cff_row11_col9 {\n",
       "  background-color: #c3d5f4;\n",
       "  color: #000000;\n",
       "}\n",
       "#T_22cff_row11_col10 {\n",
       "  background-color: #f6bda2;\n",
       "  color: #000000;\n",
       "}\n",
       "</style>\n",
       "<table id=\"T_22cff\">\n",
       "  <thead>\n",
       "    <tr>\n",
       "      <th class=\"blank level0\" >&nbsp;</th>\n",
       "      <th id=\"T_22cff_level0_col0\" class=\"col_heading level0 col0\" >fixed acidity</th>\n",
       "      <th id=\"T_22cff_level0_col1\" class=\"col_heading level0 col1\" >volatile acidity</th>\n",
       "      <th id=\"T_22cff_level0_col2\" class=\"col_heading level0 col2\" >citric acid</th>\n",
       "      <th id=\"T_22cff_level0_col3\" class=\"col_heading level0 col3\" >residual sugar</th>\n",
       "      <th id=\"T_22cff_level0_col4\" class=\"col_heading level0 col4\" >chlorides</th>\n",
       "      <th id=\"T_22cff_level0_col5\" class=\"col_heading level0 col5\" >free sulfur dioxide</th>\n",
       "      <th id=\"T_22cff_level0_col6\" class=\"col_heading level0 col6\" >total sulfur dioxide</th>\n",
       "      <th id=\"T_22cff_level0_col7\" class=\"col_heading level0 col7\" >density</th>\n",
       "      <th id=\"T_22cff_level0_col8\" class=\"col_heading level0 col8\" >pH</th>\n",
       "      <th id=\"T_22cff_level0_col9\" class=\"col_heading level0 col9\" >sulphates</th>\n",
       "      <th id=\"T_22cff_level0_col10\" class=\"col_heading level0 col10\" >alcohol</th>\n",
       "      <th id=\"T_22cff_level0_col11\" class=\"col_heading level0 col11\" >quality</th>\n",
       "    </tr>\n",
       "  </thead>\n",
       "  <tbody>\n",
       "    <tr>\n",
       "      <th id=\"T_22cff_level0_row0\" class=\"row_heading level0 row0\" >fixed acidity</th>\n",
       "      <td id=\"T_22cff_row0_col0\" class=\"data row0 col0\" >1.000000</td>\n",
       "      <td id=\"T_22cff_row0_col1\" class=\"data row0 col1\" >-0.256131</td>\n",
       "      <td id=\"T_22cff_row0_col2\" class=\"data row0 col2\" >0.671703</td>\n",
       "      <td id=\"T_22cff_row0_col3\" class=\"data row0 col3\" >0.114777</td>\n",
       "      <td id=\"T_22cff_row0_col4\" class=\"data row0 col4\" >0.093705</td>\n",
       "      <td id=\"T_22cff_row0_col5\" class=\"data row0 col5\" >-0.153794</td>\n",
       "      <td id=\"T_22cff_row0_col6\" class=\"data row0 col6\" >-0.113181</td>\n",
       "      <td id=\"T_22cff_row0_col7\" class=\"data row0 col7\" >0.668047</td>\n",
       "      <td id=\"T_22cff_row0_col8\" class=\"data row0 col8\" >-0.682978</td>\n",
       "      <td id=\"T_22cff_row0_col9\" class=\"data row0 col9\" >0.183006</td>\n",
       "      <td id=\"T_22cff_row0_col10\" class=\"data row0 col10\" >-0.061668</td>\n",
       "      <td id=\"T_22cff_row0_col11\" class=\"data row0 col11\" >0.124052</td>\n",
       "    </tr>\n",
       "    <tr>\n",
       "      <th id=\"T_22cff_level0_row1\" class=\"row_heading level0 row1\" >volatile acidity</th>\n",
       "      <td id=\"T_22cff_row1_col0\" class=\"data row1 col0\" >-0.256131</td>\n",
       "      <td id=\"T_22cff_row1_col1\" class=\"data row1 col1\" >1.000000</td>\n",
       "      <td id=\"T_22cff_row1_col2\" class=\"data row1 col2\" >-0.552496</td>\n",
       "      <td id=\"T_22cff_row1_col3\" class=\"data row1 col3\" >0.001918</td>\n",
       "      <td id=\"T_22cff_row1_col4\" class=\"data row1 col4\" >0.061298</td>\n",
       "      <td id=\"T_22cff_row1_col5\" class=\"data row1 col5\" >-0.010504</td>\n",
       "      <td id=\"T_22cff_row1_col6\" class=\"data row1 col6\" >0.076470</td>\n",
       "      <td id=\"T_22cff_row1_col7\" class=\"data row1 col7\" >0.022026</td>\n",
       "      <td id=\"T_22cff_row1_col8\" class=\"data row1 col8\" >0.234937</td>\n",
       "      <td id=\"T_22cff_row1_col9\" class=\"data row1 col9\" >-0.260987</td>\n",
       "      <td id=\"T_22cff_row1_col10\" class=\"data row1 col10\" >-0.202288</td>\n",
       "      <td id=\"T_22cff_row1_col11\" class=\"data row1 col11\" >-0.390558</td>\n",
       "    </tr>\n",
       "    <tr>\n",
       "      <th id=\"T_22cff_level0_row2\" class=\"row_heading level0 row2\" >citric acid</th>\n",
       "      <td id=\"T_22cff_row2_col0\" class=\"data row2 col0\" >0.671703</td>\n",
       "      <td id=\"T_22cff_row2_col1\" class=\"data row2 col1\" >-0.552496</td>\n",
       "      <td id=\"T_22cff_row2_col2\" class=\"data row2 col2\" >1.000000</td>\n",
       "      <td id=\"T_22cff_row2_col3\" class=\"data row2 col3\" >0.143577</td>\n",
       "      <td id=\"T_22cff_row2_col4\" class=\"data row2 col4\" >0.203823</td>\n",
       "      <td id=\"T_22cff_row2_col5\" class=\"data row2 col5\" >-0.060978</td>\n",
       "      <td id=\"T_22cff_row2_col6\" class=\"data row2 col6\" >0.035533</td>\n",
       "      <td id=\"T_22cff_row2_col7\" class=\"data row2 col7\" >0.364947</td>\n",
       "      <td id=\"T_22cff_row2_col8\" class=\"data row2 col8\" >-0.541904</td>\n",
       "      <td id=\"T_22cff_row2_col9\" class=\"data row2 col9\" >0.312770</td>\n",
       "      <td id=\"T_22cff_row2_col10\" class=\"data row2 col10\" >0.109903</td>\n",
       "      <td id=\"T_22cff_row2_col11\" class=\"data row2 col11\" >0.226373</td>\n",
       "    </tr>\n",
       "    <tr>\n",
       "      <th id=\"T_22cff_level0_row3\" class=\"row_heading level0 row3\" >residual sugar</th>\n",
       "      <td id=\"T_22cff_row3_col0\" class=\"data row3 col0\" >0.114777</td>\n",
       "      <td id=\"T_22cff_row3_col1\" class=\"data row3 col1\" >0.001918</td>\n",
       "      <td id=\"T_22cff_row3_col2\" class=\"data row3 col2\" >0.143577</td>\n",
       "      <td id=\"T_22cff_row3_col3\" class=\"data row3 col3\" >1.000000</td>\n",
       "      <td id=\"T_22cff_row3_col4\" class=\"data row3 col4\" >0.055610</td>\n",
       "      <td id=\"T_22cff_row3_col5\" class=\"data row3 col5\" >0.187049</td>\n",
       "      <td id=\"T_22cff_row3_col6\" class=\"data row3 col6\" >0.203028</td>\n",
       "      <td id=\"T_22cff_row3_col7\" class=\"data row3 col7\" >0.355283</td>\n",
       "      <td id=\"T_22cff_row3_col8\" class=\"data row3 col8\" >-0.085652</td>\n",
       "      <td id=\"T_22cff_row3_col9\" class=\"data row3 col9\" >0.005527</td>\n",
       "      <td id=\"T_22cff_row3_col10\" class=\"data row3 col10\" >0.042075</td>\n",
       "      <td id=\"T_22cff_row3_col11\" class=\"data row3 col11\" >0.013732</td>\n",
       "    </tr>\n",
       "    <tr>\n",
       "      <th id=\"T_22cff_level0_row4\" class=\"row_heading level0 row4\" >chlorides</th>\n",
       "      <td id=\"T_22cff_row4_col0\" class=\"data row4 col0\" >0.093705</td>\n",
       "      <td id=\"T_22cff_row4_col1\" class=\"data row4 col1\" >0.061298</td>\n",
       "      <td id=\"T_22cff_row4_col2\" class=\"data row4 col2\" >0.203823</td>\n",
       "      <td id=\"T_22cff_row4_col3\" class=\"data row4 col3\" >0.055610</td>\n",
       "      <td id=\"T_22cff_row4_col4\" class=\"data row4 col4\" >1.000000</td>\n",
       "      <td id=\"T_22cff_row4_col5\" class=\"data row4 col5\" >0.005562</td>\n",
       "      <td id=\"T_22cff_row4_col6\" class=\"data row4 col6\" >0.047400</td>\n",
       "      <td id=\"T_22cff_row4_col7\" class=\"data row4 col7\" >0.200632</td>\n",
       "      <td id=\"T_22cff_row4_col8\" class=\"data row4 col8\" >-0.265026</td>\n",
       "      <td id=\"T_22cff_row4_col9\" class=\"data row4 col9\" >0.371260</td>\n",
       "      <td id=\"T_22cff_row4_col10\" class=\"data row4 col10\" >-0.221141</td>\n",
       "      <td id=\"T_22cff_row4_col11\" class=\"data row4 col11\" >-0.128907</td>\n",
       "    </tr>\n",
       "    <tr>\n",
       "      <th id=\"T_22cff_level0_row5\" class=\"row_heading level0 row5\" >free sulfur dioxide</th>\n",
       "      <td id=\"T_22cff_row5_col0\" class=\"data row5 col0\" >-0.153794</td>\n",
       "      <td id=\"T_22cff_row5_col1\" class=\"data row5 col1\" >-0.010504</td>\n",
       "      <td id=\"T_22cff_row5_col2\" class=\"data row5 col2\" >-0.060978</td>\n",
       "      <td id=\"T_22cff_row5_col3\" class=\"data row5 col3\" >0.187049</td>\n",
       "      <td id=\"T_22cff_row5_col4\" class=\"data row5 col4\" >0.005562</td>\n",
       "      <td id=\"T_22cff_row5_col5\" class=\"data row5 col5\" >1.000000</td>\n",
       "      <td id=\"T_22cff_row5_col6\" class=\"data row5 col6\" >0.667666</td>\n",
       "      <td id=\"T_22cff_row5_col7\" class=\"data row5 col7\" >-0.021946</td>\n",
       "      <td id=\"T_22cff_row5_col8\" class=\"data row5 col8\" >0.070377</td>\n",
       "      <td id=\"T_22cff_row5_col9\" class=\"data row5 col9\" >0.051658</td>\n",
       "      <td id=\"T_22cff_row5_col10\" class=\"data row5 col10\" >-0.069408</td>\n",
       "      <td id=\"T_22cff_row5_col11\" class=\"data row5 col11\" >-0.050656</td>\n",
       "    </tr>\n",
       "    <tr>\n",
       "      <th id=\"T_22cff_level0_row6\" class=\"row_heading level0 row6\" >total sulfur dioxide</th>\n",
       "      <td id=\"T_22cff_row6_col0\" class=\"data row6 col0\" >-0.113181</td>\n",
       "      <td id=\"T_22cff_row6_col1\" class=\"data row6 col1\" >0.076470</td>\n",
       "      <td id=\"T_22cff_row6_col2\" class=\"data row6 col2\" >0.035533</td>\n",
       "      <td id=\"T_22cff_row6_col3\" class=\"data row6 col3\" >0.203028</td>\n",
       "      <td id=\"T_22cff_row6_col4\" class=\"data row6 col4\" >0.047400</td>\n",
       "      <td id=\"T_22cff_row6_col5\" class=\"data row6 col5\" >0.667666</td>\n",
       "      <td id=\"T_22cff_row6_col6\" class=\"data row6 col6\" >1.000000</td>\n",
       "      <td id=\"T_22cff_row6_col7\" class=\"data row6 col7\" >0.071269</td>\n",
       "      <td id=\"T_22cff_row6_col8\" class=\"data row6 col8\" >-0.066495</td>\n",
       "      <td id=\"T_22cff_row6_col9\" class=\"data row6 col9\" >0.042947</td>\n",
       "      <td id=\"T_22cff_row6_col10\" class=\"data row6 col10\" >-0.205654</td>\n",
       "      <td id=\"T_22cff_row6_col11\" class=\"data row6 col11\" >-0.185100</td>\n",
       "    </tr>\n",
       "    <tr>\n",
       "      <th id=\"T_22cff_level0_row7\" class=\"row_heading level0 row7\" >density</th>\n",
       "      <td id=\"T_22cff_row7_col0\" class=\"data row7 col0\" >0.668047</td>\n",
       "      <td id=\"T_22cff_row7_col1\" class=\"data row7 col1\" >0.022026</td>\n",
       "      <td id=\"T_22cff_row7_col2\" class=\"data row7 col2\" >0.364947</td>\n",
       "      <td id=\"T_22cff_row7_col3\" class=\"data row7 col3\" >0.355283</td>\n",
       "      <td id=\"T_22cff_row7_col4\" class=\"data row7 col4\" >0.200632</td>\n",
       "      <td id=\"T_22cff_row7_col5\" class=\"data row7 col5\" >-0.021946</td>\n",
       "      <td id=\"T_22cff_row7_col6\" class=\"data row7 col6\" >0.071269</td>\n",
       "      <td id=\"T_22cff_row7_col7\" class=\"data row7 col7\" >1.000000</td>\n",
       "      <td id=\"T_22cff_row7_col8\" class=\"data row7 col8\" >-0.341699</td>\n",
       "      <td id=\"T_22cff_row7_col9\" class=\"data row7 col9\" >0.148506</td>\n",
       "      <td id=\"T_22cff_row7_col10\" class=\"data row7 col10\" >-0.496180</td>\n",
       "      <td id=\"T_22cff_row7_col11\" class=\"data row7 col11\" >-0.174919</td>\n",
       "    </tr>\n",
       "    <tr>\n",
       "      <th id=\"T_22cff_level0_row8\" class=\"row_heading level0 row8\" >pH</th>\n",
       "      <td id=\"T_22cff_row8_col0\" class=\"data row8 col0\" >-0.682978</td>\n",
       "      <td id=\"T_22cff_row8_col1\" class=\"data row8 col1\" >0.234937</td>\n",
       "      <td id=\"T_22cff_row8_col2\" class=\"data row8 col2\" >-0.541904</td>\n",
       "      <td id=\"T_22cff_row8_col3\" class=\"data row8 col3\" >-0.085652</td>\n",
       "      <td id=\"T_22cff_row8_col4\" class=\"data row8 col4\" >-0.265026</td>\n",
       "      <td id=\"T_22cff_row8_col5\" class=\"data row8 col5\" >0.070377</td>\n",
       "      <td id=\"T_22cff_row8_col6\" class=\"data row8 col6\" >-0.066495</td>\n",
       "      <td id=\"T_22cff_row8_col7\" class=\"data row8 col7\" >-0.341699</td>\n",
       "      <td id=\"T_22cff_row8_col8\" class=\"data row8 col8\" >1.000000</td>\n",
       "      <td id=\"T_22cff_row8_col9\" class=\"data row8 col9\" >-0.196648</td>\n",
       "      <td id=\"T_22cff_row8_col10\" class=\"data row8 col10\" >0.205633</td>\n",
       "      <td id=\"T_22cff_row8_col11\" class=\"data row8 col11\" >-0.057731</td>\n",
       "    </tr>\n",
       "    <tr>\n",
       "      <th id=\"T_22cff_level0_row9\" class=\"row_heading level0 row9\" >sulphates</th>\n",
       "      <td id=\"T_22cff_row9_col0\" class=\"data row9 col0\" >0.183006</td>\n",
       "      <td id=\"T_22cff_row9_col1\" class=\"data row9 col1\" >-0.260987</td>\n",
       "      <td id=\"T_22cff_row9_col2\" class=\"data row9 col2\" >0.312770</td>\n",
       "      <td id=\"T_22cff_row9_col3\" class=\"data row9 col3\" >0.005527</td>\n",
       "      <td id=\"T_22cff_row9_col4\" class=\"data row9 col4\" >0.371260</td>\n",
       "      <td id=\"T_22cff_row9_col5\" class=\"data row9 col5\" >0.051658</td>\n",
       "      <td id=\"T_22cff_row9_col6\" class=\"data row9 col6\" >0.042947</td>\n",
       "      <td id=\"T_22cff_row9_col7\" class=\"data row9 col7\" >0.148506</td>\n",
       "      <td id=\"T_22cff_row9_col8\" class=\"data row9 col8\" >-0.196648</td>\n",
       "      <td id=\"T_22cff_row9_col9\" class=\"data row9 col9\" >1.000000</td>\n",
       "      <td id=\"T_22cff_row9_col10\" class=\"data row9 col10\" >0.093595</td>\n",
       "      <td id=\"T_22cff_row9_col11\" class=\"data row9 col11\" >0.251397</td>\n",
       "    </tr>\n",
       "    <tr>\n",
       "      <th id=\"T_22cff_level0_row10\" class=\"row_heading level0 row10\" >alcohol</th>\n",
       "      <td id=\"T_22cff_row10_col0\" class=\"data row10 col0\" >-0.061668</td>\n",
       "      <td id=\"T_22cff_row10_col1\" class=\"data row10 col1\" >-0.202288</td>\n",
       "      <td id=\"T_22cff_row10_col2\" class=\"data row10 col2\" >0.109903</td>\n",
       "      <td id=\"T_22cff_row10_col3\" class=\"data row10 col3\" >0.042075</td>\n",
       "      <td id=\"T_22cff_row10_col4\" class=\"data row10 col4\" >-0.221141</td>\n",
       "      <td id=\"T_22cff_row10_col5\" class=\"data row10 col5\" >-0.069408</td>\n",
       "      <td id=\"T_22cff_row10_col6\" class=\"data row10 col6\" >-0.205654</td>\n",
       "      <td id=\"T_22cff_row10_col7\" class=\"data row10 col7\" >-0.496180</td>\n",
       "      <td id=\"T_22cff_row10_col8\" class=\"data row10 col8\" >0.205633</td>\n",
       "      <td id=\"T_22cff_row10_col9\" class=\"data row10 col9\" >0.093595</td>\n",
       "      <td id=\"T_22cff_row10_col10\" class=\"data row10 col10\" >1.000000</td>\n",
       "      <td id=\"T_22cff_row10_col11\" class=\"data row10 col11\" >0.476166</td>\n",
       "    </tr>\n",
       "    <tr>\n",
       "      <th id=\"T_22cff_level0_row11\" class=\"row_heading level0 row11\" >quality</th>\n",
       "      <td id=\"T_22cff_row11_col0\" class=\"data row11 col0\" >0.124052</td>\n",
       "      <td id=\"T_22cff_row11_col1\" class=\"data row11 col1\" >-0.390558</td>\n",
       "      <td id=\"T_22cff_row11_col2\" class=\"data row11 col2\" >0.226373</td>\n",
       "      <td id=\"T_22cff_row11_col3\" class=\"data row11 col3\" >0.013732</td>\n",
       "      <td id=\"T_22cff_row11_col4\" class=\"data row11 col4\" >-0.128907</td>\n",
       "      <td id=\"T_22cff_row11_col5\" class=\"data row11 col5\" >-0.050656</td>\n",
       "      <td id=\"T_22cff_row11_col6\" class=\"data row11 col6\" >-0.185100</td>\n",
       "      <td id=\"T_22cff_row11_col7\" class=\"data row11 col7\" >-0.174919</td>\n",
       "      <td id=\"T_22cff_row11_col8\" class=\"data row11 col8\" >-0.057731</td>\n",
       "      <td id=\"T_22cff_row11_col9\" class=\"data row11 col9\" >0.251397</td>\n",
       "      <td id=\"T_22cff_row11_col10\" class=\"data row11 col10\" >0.476166</td>\n",
       "      <td id=\"T_22cff_row11_col11\" class=\"data row11 col11\" >1.000000</td>\n",
       "    </tr>\n",
       "  </tbody>\n",
       "</table>\n"
      ],
      "text/plain": [
       "<pandas.io.formats.style.Styler at 0x7f94398f3580>"
      ]
     },
     "execution_count": 18,
     "metadata": {},
     "output_type": "execute_result"
    }
   ],
   "source": [
    "\n",
    "df.corr().style.background_gradient(cmap=\"coolwarm\")"
   ]
  },
  {
   "cell_type": "code",
   "execution_count": 19,
   "metadata": {},
   "outputs": [],
   "source": [
    "x = df.drop('quality', axis=1)\n",
    "y = df['quality']"
   ]
  },
  {
   "cell_type": "code",
   "execution_count": 20,
   "metadata": {},
   "outputs": [],
   "source": [
    "X_train, X_test, y_train, y_test = train_test_split(x, y, test_size=0.25)"
   ]
  },
  {
   "cell_type": "code",
   "execution_count": 21,
   "metadata": {},
   "outputs": [
    {
     "data": {
      "text/html": [
       "<style>#sk-container-id-1 {color: black;background-color: white;}#sk-container-id-1 pre{padding: 0;}#sk-container-id-1 div.sk-toggleable {background-color: white;}#sk-container-id-1 label.sk-toggleable__label {cursor: pointer;display: block;width: 100%;margin-bottom: 0;padding: 0.3em;box-sizing: border-box;text-align: center;}#sk-container-id-1 label.sk-toggleable__label-arrow:before {content: \"▸\";float: left;margin-right: 0.25em;color: #696969;}#sk-container-id-1 label.sk-toggleable__label-arrow:hover:before {color: black;}#sk-container-id-1 div.sk-estimator:hover label.sk-toggleable__label-arrow:before {color: black;}#sk-container-id-1 div.sk-toggleable__content {max-height: 0;max-width: 0;overflow: hidden;text-align: left;background-color: #f0f8ff;}#sk-container-id-1 div.sk-toggleable__content pre {margin: 0.2em;color: black;border-radius: 0.25em;background-color: #f0f8ff;}#sk-container-id-1 input.sk-toggleable__control:checked~div.sk-toggleable__content {max-height: 200px;max-width: 100%;overflow: auto;}#sk-container-id-1 input.sk-toggleable__control:checked~label.sk-toggleable__label-arrow:before {content: \"▾\";}#sk-container-id-1 div.sk-estimator input.sk-toggleable__control:checked~label.sk-toggleable__label {background-color: #d4ebff;}#sk-container-id-1 div.sk-label input.sk-toggleable__control:checked~label.sk-toggleable__label {background-color: #d4ebff;}#sk-container-id-1 input.sk-hidden--visually {border: 0;clip: rect(1px 1px 1px 1px);clip: rect(1px, 1px, 1px, 1px);height: 1px;margin: -1px;overflow: hidden;padding: 0;position: absolute;width: 1px;}#sk-container-id-1 div.sk-estimator {font-family: monospace;background-color: #f0f8ff;border: 1px dotted black;border-radius: 0.25em;box-sizing: border-box;margin-bottom: 0.5em;}#sk-container-id-1 div.sk-estimator:hover {background-color: #d4ebff;}#sk-container-id-1 div.sk-parallel-item::after {content: \"\";width: 100%;border-bottom: 1px solid gray;flex-grow: 1;}#sk-container-id-1 div.sk-label:hover label.sk-toggleable__label {background-color: #d4ebff;}#sk-container-id-1 div.sk-serial::before {content: \"\";position: absolute;border-left: 1px solid gray;box-sizing: border-box;top: 0;bottom: 0;left: 50%;z-index: 0;}#sk-container-id-1 div.sk-serial {display: flex;flex-direction: column;align-items: center;background-color: white;padding-right: 0.2em;padding-left: 0.2em;position: relative;}#sk-container-id-1 div.sk-item {position: relative;z-index: 1;}#sk-container-id-1 div.sk-parallel {display: flex;align-items: stretch;justify-content: center;background-color: white;position: relative;}#sk-container-id-1 div.sk-item::before, #sk-container-id-1 div.sk-parallel-item::before {content: \"\";position: absolute;border-left: 1px solid gray;box-sizing: border-box;top: 0;bottom: 0;left: 50%;z-index: -1;}#sk-container-id-1 div.sk-parallel-item {display: flex;flex-direction: column;z-index: 1;position: relative;background-color: white;}#sk-container-id-1 div.sk-parallel-item:first-child::after {align-self: flex-end;width: 50%;}#sk-container-id-1 div.sk-parallel-item:last-child::after {align-self: flex-start;width: 50%;}#sk-container-id-1 div.sk-parallel-item:only-child::after {width: 0;}#sk-container-id-1 div.sk-dashed-wrapped {border: 1px dashed gray;margin: 0 0.4em 0.5em 0.4em;box-sizing: border-box;padding-bottom: 0.4em;background-color: white;}#sk-container-id-1 div.sk-label label {font-family: monospace;font-weight: bold;display: inline-block;line-height: 1.2em;}#sk-container-id-1 div.sk-label-container {text-align: center;}#sk-container-id-1 div.sk-container {/* jupyter's `normalize.less` sets `[hidden] { display: none; }` but bootstrap.min.css set `[hidden] { display: none !important; }` so we also need the `!important` here to be able to override the default hidden behavior on the sphinx rendered scikit-learn.org. See: https://github.com/scikit-learn/scikit-learn/issues/21755 */display: inline-block !important;position: relative;}#sk-container-id-1 div.sk-text-repr-fallback {display: none;}</style><div id=\"sk-container-id-1\" class=\"sk-top-container\"><div class=\"sk-text-repr-fallback\"><pre>SVC()</pre><b>In a Jupyter environment, please rerun this cell to show the HTML representation or trust the notebook. <br />On GitHub, the HTML representation is unable to render, please try loading this page with nbviewer.org.</b></div><div class=\"sk-container\" hidden><div class=\"sk-item\"><div class=\"sk-estimator sk-toggleable\"><input class=\"sk-toggleable__control sk-hidden--visually\" id=\"sk-estimator-id-1\" type=\"checkbox\" checked><label for=\"sk-estimator-id-1\" class=\"sk-toggleable__label sk-toggleable__label-arrow\">SVC</label><div class=\"sk-toggleable__content\"><pre>SVC()</pre></div></div></div></div></div>"
      ],
      "text/plain": [
       "SVC()"
      ]
     },
     "execution_count": 21,
     "metadata": {},
     "output_type": "execute_result"
    }
   ],
   "source": [
    "model = DecisionTreeClassifier()\n",
    "model = SVC()\n",
    "model.fit(X_train, y_train)"
   ]
  },
  {
   "cell_type": "code",
   "execution_count": 22,
   "metadata": {},
   "outputs": [],
   "source": [
    "expected_y  = y_test\n",
    "predicted_y = model.predict(X_test)"
   ]
  },
  {
   "cell_type": "code",
   "execution_count": 41,
   "metadata": {},
   "outputs": [
    {
     "data": {
      "text/plain": [
       "{'3': {'precision': 1.0, 'recall': 0.0, 'f1-score': 0.0, 'support': 6},\n",
       " '4': {'precision': 1.0, 'recall': 0.0, 'f1-score': 0.0, 'support': 14},\n",
       " '5': {'precision': 0.6842105263157895,\n",
       "  'recall': 0.3551912568306011,\n",
       "  'f1-score': 0.4676258992805755,\n",
       "  'support': 183},\n",
       " '6': {'precision': 0.40789473684210525,\n",
       "  'recall': 0.8435374149659864,\n",
       "  'f1-score': 0.549889135254989,\n",
       "  'support': 147},\n",
       " '7': {'precision': 1.0,\n",
       "  'recall': 0.020833333333333332,\n",
       "  'f1-score': 0.04081632653061225,\n",
       "  'support': 48},\n",
       " '8': {'precision': 1.0, 'recall': 0.0, 'f1-score': 0.0, 'support': 2},\n",
       " 'accuracy': 0.475,\n",
       " 'macro avg': {'precision': 0.8486842105263158,\n",
       "  'recall': 0.20326033418832012,\n",
       "  'f1-score': 0.17638856017769614,\n",
       "  'support': 400},\n",
       " 'weighted avg': {'precision': 0.6379276315789474,\n",
       "  'recall': 0.475,\n",
       "  'f1-score': 0.4209210653107452,\n",
       "  'support': 400}}"
      ]
     },
     "execution_count": 41,
     "metadata": {},
     "output_type": "execute_result"
    }
   ],
   "source": [
    "metrics.classification_report(expected_y, predicted_y, output_dict=True,zero_division=1)"
   ]
  },
  {
   "cell_type": "code",
   "execution_count": 42,
   "metadata": {},
   "outputs": [
    {
     "name": "stdout",
     "output_type": "stream",
     "text": [
      "              precision    recall  f1-score   support\n",
      "\n",
      "           3       1.00      0.00      0.00         6\n",
      "           4       1.00      0.00      0.00        14\n",
      "           5       0.68      0.36      0.47       183\n",
      "           6       0.41      0.84      0.55       147\n",
      "           7       1.00      0.02      0.04        48\n",
      "           8       1.00      0.00      0.00         2\n",
      "\n",
      "    accuracy                           0.48       400\n",
      "   macro avg       0.85      0.20      0.18       400\n",
      "weighted avg       0.64      0.47      0.42       400\n",
      "\n"
     ]
    }
   ],
   "source": [
    "print(metrics.classification_report(expected_y, predicted_y, zero_division=1))"
   ]
  },
  {
   "cell_type": "code",
   "execution_count": 35,
   "metadata": {},
   "outputs": [
    {
     "data": {
      "image/png": "[encoded data removed]",
      "text/plain": [
       "<Figure size 640x480 with 2 Axes>"
      ]
     },
     "metadata": {},
     "output_type": "display_data"
    }
   ],
   "source": [
    "cm = metrics.confusion_matrix(y_test, predicted_y)\n",
    "disp = metrics.ConfusionMatrixDisplay(confusion_matrix=cm)\n",
    "\n",
    "disp.plot()\n",
    "\n",
    "plt.show()"
   ]
  },
  {
   "cell_type": "code",
   "execution_count": 25,
   "metadata": {},
   "outputs": [],
   "source": [
    "from joblib import dump, load"
   ]
  },
  {
   "cell_type": "code",
   "execution_count": 26,
   "metadata": {},
   "outputs": [
    {
     "data": {
      "text/plain": [
       "['model.joblib']"
      ]
     },
     "execution_count": 26,
     "metadata": {},
     "output_type": "execute_result"
    }
   ],
   "source": [
    "dump(model, 'model.joblib') "
   ]
  },
  {
   "cell_type": "code",
   "execution_count": 28,
   "metadata": {},
   "outputs": [],
   "source": [
    "model_loaded = load('model.joblib') "
   ]
  },
  {
   "cell_type": "code",
   "execution_count": 32,
   "metadata": {},
   "outputs": [
    {
     "data": {
      "text/plain": [
       "array([5])"
      ]
     },
     "execution_count": 32,
     "metadata": {},
     "output_type": "execute_result"
    }
   ],
   "source": [
    "model_loaded.predict(X_test[0:1])"
   ]
  },
  {
   "cell_type": "code",
   "execution_count": 31,
   "metadata": {},
   "outputs": [
    {
     "data": {
      "text/html": [
       "<div>\n",
       "<style scoped>\n",
       "    .dataframe tbody tr th:only-of-type {\n",
       "        vertical-align: middle;\n",
       "    }\n",
       "\n",
       "    .dataframe tbody tr th {\n",
       "        vertical-align: top;\n",
       "    }\n",
       "\n",
       "    .dataframe thead th {\n",
       "        text-align: right;\n",
       "    }\n",
       "</style>\n",
       "<table border=\"1\" class=\"dataframe\">\n",
       "  <thead>\n",
       "    <tr style=\"text-align: right;\">\n",
       "      <th></th>\n",
       "      <th>fixed acidity</th>\n",
       "      <th>volatile acidity</th>\n",
       "      <th>citric acid</th>\n",
       "      <th>residual sugar</th>\n",
       "      <th>chlorides</th>\n",
       "      <th>free sulfur dioxide</th>\n",
       "      <th>total sulfur dioxide</th>\n",
       "      <th>density</th>\n",
       "      <th>pH</th>\n",
       "      <th>sulphates</th>\n",
       "      <th>alcohol</th>\n",
       "    </tr>\n",
       "  </thead>\n",
       "  <tbody>\n",
       "    <tr>\n",
       "      <th>255</th>\n",
       "      <td>8.0</td>\n",
       "      <td>0.57</td>\n",
       "      <td>0.23</td>\n",
       "      <td>3.2</td>\n",
       "      <td>0.073</td>\n",
       "      <td>17.0</td>\n",
       "      <td>119.0</td>\n",
       "      <td>0.99675</td>\n",
       "      <td>3.26</td>\n",
       "      <td>0.57</td>\n",
       "      <td>9.3</td>\n",
       "    </tr>\n",
       "  </tbody>\n",
       "</table>\n",
       "</div>"
      ],
      "text/plain": [
       "     fixed acidity  volatile acidity  citric acid  residual sugar  chlorides  \\\n",
       "255            8.0              0.57         0.23             3.2      0.073   \n",
       "\n",
       "     free sulfur dioxide  total sulfur dioxide  density    pH  sulphates  \\\n",
       "255                 17.0                 119.0  0.99675  3.26       0.57   \n",
       "\n",
       "     alcohol  \n",
       "255      9.3  "
      ]
     },
     "execution_count": 31,
     "metadata": {},
     "output_type": "execute_result"
    }
   ],
   "source": [
    "X_test[0:1]"
   ]
  },
  {
   "cell_type": "code",
   "execution_count": null,
   "metadata": {},
   "outputs": [],
   "source": []
  }
 ],
 "metadata": {
  "kernelspec": {
   "display_name": "Python 3 (ipykernel)",
   "language": "python",
   "name": "python3"
  },
  "language_info": {
   "codemirror_mode": {
    "name": "ipython",
    "version": 3
   },
   "file_extension": ".py",
   "mimetype": "text/x-python",
   "name": "python",
   "nbconvert_exporter": "python",
   "pygments_lexer": "ipython3",
   "version": "3.10.6"
  },
  "vscode": {
   "interpreter": {
    "hash": "bdee1167569f2e32f5981161f254813cc83ef3aee509e10045047bf9d4003afb"
   }
  }
 },
 "nbformat": 4,
 "nbformat_minor": 4
}
