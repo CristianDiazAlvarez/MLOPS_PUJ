{
 "cells": [
  {
   "cell_type": "code",
   "execution_count": null,
   "id": "401bd3fb-5582-4747-8516-e22371fbc326",
   "metadata": {},
   "outputs": [],
   "source": []
  },
  {
   "cell_type": "code",
   "execution_count": 1,
   "id": "5d3812df-5b13-42e2-a32c-f28202514e0a",
   "metadata": {
    "tags": []
   },
   "outputs": [],
   "source": [
    "import mlflow\n",
    "\n",
    "from sklearn.model_selection import train_test_split\n",
    "from sklearn.datasets import load_diabetes\n",
    "from sklearn.ensemble import RandomForestRegressor\n",
    "\n",
    "# loads the diabetes dataset\n",
    "db = load_diabetes()\n",
    "X_train, X_test, y_train, y_test = train_test_split(db.data, db.target)\n",
    "\n",
    "# run description (just metadata)\n",
    "desc = \"the simplest possible example\"\n",
    "\n",
    "# connects to the Mlflow tracking server that you started above\n",
    "mlflow.set_tracking_uri(\"http://10.43.101.149:5000\")\n",
    "\n",
    "# executes the run\n",
    "with mlflow.start_run(run_name=\"no_artifacts_logged\", description=desc) as run:\n",
    "    rf = RandomForestRegressor(n_estimators=100, max_depth=6, max_features=3)\n",
    "    rf.fit(X_train, y_train)"
   ]
  },
  {
   "cell_type": "code",
   "execution_count": null,
   "id": "587fb100-2fa5-4464-8dc4-2cd4e907270d",
   "metadata": {},
   "outputs": [],
   "source": []
  },
  {
   "cell_type": "code",
   "execution_count": 2,
   "id": "8d9efa36-a24a-4649-ba38-092f5ab1554e",
   "metadata": {
    "tags": []
   },
   "outputs": [
    {
     "name": "stderr",
     "output_type": "stream",
     "text": [
      "2023/04/27 18:48:58 INFO mlflow.tracking.fluent: Experiment with name 'mlflow_tracking_examples_class' does not exist. Creating a new experiment.\n"
     ]
    }
   ],
   "source": [
    "import mlflow\n",
    "\n",
    "from sklearn.model_selection import train_test_split\n",
    "from sklearn.datasets import load_diabetes\n",
    "from sklearn.ensemble import RandomForestRegressor\n",
    "\n",
    "# loads the diabetes dataset\n",
    "db = load_diabetes()\n",
    "X_train, X_test, y_train, y_test = train_test_split(db.data, db.target)\n",
    "\n",
    "# run description (just metadata)\n",
    "desc = \"the simplest possible example\"\n",
    "\n",
    "# connects to the Mlflow tracking server that you started above\n",
    "mlflow.set_tracking_uri(\"http://10.43.101.149:5000\")\n",
    "mlflow.set_experiment(\"mlflow_tracking_examples_class\")\n",
    "\n",
    "# executes the run\n",
    "with mlflow.start_run(run_name=\"no_artifacts_logged\", description=desc) as run:\n",
    "    rf = RandomForestRegressor(n_estimators=100, max_depth=6, max_features=3)\n",
    "    rf.fit(X_train, y_train)"
   ]
  },
  {
   "cell_type": "code",
   "execution_count": null,
   "id": "181deba3-175e-4f6c-b5a6-0bb9eee26aa6",
   "metadata": {},
   "outputs": [],
   "source": []
  },
  {
   "cell_type": "code",
   "execution_count": 3,
   "id": "6d7c6d46-9ae3-4cbb-a5e6-233ab1d6012c",
   "metadata": {
    "tags": []
   },
   "outputs": [],
   "source": [
    "import mlflow\n",
    "\n",
    "from sklearn.model_selection import train_test_split\n",
    "from sklearn.datasets import load_diabetes\n",
    "from sklearn.ensemble import RandomForestRegressor\n",
    "\n",
    "# loads the diabetes dataset\n",
    "db = load_diabetes()\n",
    "X_train, X_test, y_train, y_test = train_test_split(db.data, db.target)\n",
    "\n",
    "# run description (just metadata)\n",
    "desc = \"the simplest possible example\"\n",
    "\n",
    "# connects to the Mlflow tracking server that you started above\n",
    "mlflow.set_tracking_uri(\"http://10.43.101.149:5000\")\n",
    "mlflow.set_experiment(\"mlflow_tracking_examples_class\")\n",
    "\n",
    "\n",
    "with mlflow.start_run(run_name=\"params_no_artifacts_logged\") as run:\n",
    "\n",
    "    params = {\"n_estimators\":100, \"max_depth\":6, \"max_features\":3}\n",
    "\n",
    "    rf = RandomForestRegressor(**params)\n",
    "    rf.fit(X_train, y_train)\n",
    "\n",
    "    mlflow.log_params(params)\n",
    "    mlflow.log_param(\"my_extra_param\", \"extra_param_value\")\n",
    "    mlflow.log_metric(\"my_metric\", 0.8)\n",
    "    mlflow.set_tag(\"my_tag\", \"my_tag_value\")"
   ]
  },
  {
   "cell_type": "code",
   "execution_count": null,
   "id": "019f642c-6e02-408a-afd9-4f2fba6f6bee",
   "metadata": {},
   "outputs": [],
   "source": []
  },
  {
   "cell_type": "code",
   "execution_count": 4,
   "id": "2dbd4e91-c764-4b6f-8a56-97e652fcac33",
   "metadata": {
    "scrolled": true,
    "tags": []
   },
   "outputs": [],
   "source": [
    "import mlflow\n",
    "\n",
    "from sklearn.model_selection import train_test_split\n",
    "from sklearn.datasets import load_diabetes\n",
    "from sklearn.ensemble import RandomForestRegressor\n",
    "\n",
    "import os\n",
    "os.environ['MLFLOW_S3_ENDPOINT_URL'] = \"http://10.43.101.149:9000\"\n",
    "os.environ['AWS_ACCESS_KEY_ID'] = 'admin'\n",
    "os.environ['AWS_SECRET_ACCESS_KEY'] = 'supersecret'\n",
    "\n",
    "# loads the diabetes dataset\n",
    "db = load_diabetes()\n",
    "X_train, X_test, y_train, y_test = train_test_split(db.data, db.target)\n",
    "\n",
    "# run description (just metadata)\n",
    "desc = \"the simplest possible example\"\n",
    "\n",
    "# connects to the Mlflow tracking server that you started above\n",
    "mlflow.set_tracking_uri(\"http://10.43.101.149:5000\")\n",
    "mlflow.set_experiment(\"mlflow_tracking_examples_class\")\n",
    "\n",
    "with mlflow.start_run(run_name=\"logged_artifacts\") as run:\n",
    "    params = {\"n_estimators\":100, \"max_depth\":6, \"max_features\":3}\n",
    "\n",
    "    rf = RandomForestRegressor(**params)\n",
    "    rf.fit(X_train, y_train)\n",
    "\n",
    "    mlflow.log_params(params)\n",
    "    mlflow.sklearn.log_model(\n",
    "      sk_model=rf,\n",
    "      artifact_path=\"random_forest_regressor\"\n",
    "    )"
   ]
  },
  {
   "cell_type": "code",
   "execution_count": 5,
   "id": "4e03edb6-d23f-43ba-aaaf-ea9a905eec3c",
   "metadata": {
    "tags": []
   },
   "outputs": [
    {
     "name": "stdout",
     "output_type": "stream",
     "text": [
      "tracking uri: http://10.43.102.109:5000\n",
      "artifact uri: s3://mlflows3/artifacts/2/835c283285b84137a381805acaffcce9/artifacts\n"
     ]
    }
   ],
   "source": [
    "print('tracking uri:', mlflow.get_tracking_uri())\n",
    "print('artifact uri:', mlflow.get_artifact_uri())"
   ]
  },
  {
   "cell_type": "code",
   "execution_count": 6,
   "id": "75a5fe06-f74c-4d27-be39-a38b1c4fae0e",
   "metadata": {
    "tags": []
   },
   "outputs": [
    {
     "name": "stderr",
     "output_type": "stream",
     "text": [
      "2023/04/27 19:06:09 INFO mlflow.tracking.fluent: Autologging successfully enabled for sklearn.\n"
     ]
    },
    {
     "data": {
      "text/html": [
       "<style>#sk-container-id-2 {color: black;background-color: white;}#sk-container-id-2 pre{padding: 0;}#sk-container-id-2 div.sk-toggleable {background-color: white;}#sk-container-id-2 label.sk-toggleable__label {cursor: pointer;display: block;width: 100%;margin-bottom: 0;padding: 0.3em;box-sizing: border-box;text-align: center;}#sk-container-id-2 label.sk-toggleable__label-arrow:before {content: \"▸\";float: left;margin-right: 0.25em;color: #696969;}#sk-container-id-2 label.sk-toggleable__label-arrow:hover:before {color: black;}#sk-container-id-2 div.sk-estimator:hover label.sk-toggleable__label-arrow:before {color: black;}#sk-container-id-2 div.sk-toggleable__content {max-height: 0;max-width: 0;overflow: hidden;text-align: left;background-color: #f0f8ff;}#sk-container-id-2 div.sk-toggleable__content pre {margin: 0.2em;color: black;border-radius: 0.25em;background-color: #f0f8ff;}#sk-container-id-2 input.sk-toggleable__control:checked~div.sk-toggleable__content {max-height: 200px;max-width: 100%;overflow: auto;}#sk-container-id-2 input.sk-toggleable__control:checked~label.sk-toggleable__label-arrow:before {content: \"▾\";}#sk-container-id-2 div.sk-estimator input.sk-toggleable__control:checked~label.sk-toggleable__label {background-color: #d4ebff;}#sk-container-id-2 div.sk-label input.sk-toggleable__control:checked~label.sk-toggleable__label {background-color: #d4ebff;}#sk-container-id-2 input.sk-hidden--visually {border: 0;clip: rect(1px 1px 1px 1px);clip: rect(1px, 1px, 1px, 1px);height: 1px;margin: -1px;overflow: hidden;padding: 0;position: absolute;width: 1px;}#sk-container-id-2 div.sk-estimator {font-family: monospace;background-color: #f0f8ff;border: 1px dotted black;border-radius: 0.25em;box-sizing: border-box;margin-bottom: 0.5em;}#sk-container-id-2 div.sk-estimator:hover {background-color: #d4ebff;}#sk-container-id-2 div.sk-parallel-item::after {content: \"\";width: 100%;border-bottom: 1px solid gray;flex-grow: 1;}#sk-container-id-2 div.sk-label:hover label.sk-toggleable__label {background-color: #d4ebff;}#sk-container-id-2 div.sk-serial::before {content: \"\";position: absolute;border-left: 1px solid gray;box-sizing: border-box;top: 0;bottom: 0;left: 50%;z-index: 0;}#sk-container-id-2 div.sk-serial {display: flex;flex-direction: column;align-items: center;background-color: white;padding-right: 0.2em;padding-left: 0.2em;position: relative;}#sk-container-id-2 div.sk-item {position: relative;z-index: 1;}#sk-container-id-2 div.sk-parallel {display: flex;align-items: stretch;justify-content: center;background-color: white;position: relative;}#sk-container-id-2 div.sk-item::before, #sk-container-id-2 div.sk-parallel-item::before {content: \"\";position: absolute;border-left: 1px solid gray;box-sizing: border-box;top: 0;bottom: 0;left: 50%;z-index: -1;}#sk-container-id-2 div.sk-parallel-item {display: flex;flex-direction: column;z-index: 1;position: relative;background-color: white;}#sk-container-id-2 div.sk-parallel-item:first-child::after {align-self: flex-end;width: 50%;}#sk-container-id-2 div.sk-parallel-item:last-child::after {align-self: flex-start;width: 50%;}#sk-container-id-2 div.sk-parallel-item:only-child::after {width: 0;}#sk-container-id-2 div.sk-dashed-wrapped {border: 1px dashed gray;margin: 0 0.4em 0.5em 0.4em;box-sizing: border-box;padding-bottom: 0.4em;background-color: white;}#sk-container-id-2 div.sk-label label {font-family: monospace;font-weight: bold;display: inline-block;line-height: 1.2em;}#sk-container-id-2 div.sk-label-container {text-align: center;}#sk-container-id-2 div.sk-container {/* jupyter's `normalize.less` sets `[hidden] { display: none; }` but bootstrap.min.css set `[hidden] { display: none !important; }` so we also need the `!important` here to be able to override the default hidden behavior on the sphinx rendered scikit-learn.org. See: https://github.com/scikit-learn/scikit-learn/issues/21755 */display: inline-block !important;position: relative;}#sk-container-id-2 div.sk-text-repr-fallback {display: none;}</style><div id=\"sk-container-id-2\" class=\"sk-top-container\"><div class=\"sk-text-repr-fallback\"><pre>RandomForestRegressor(max_depth=6, max_features=3)</pre><b>In a Jupyter environment, please rerun this cell to show the HTML representation or trust the notebook. <br />On GitHub, the HTML representation is unable to render, please try loading this page with nbviewer.org.</b></div><div class=\"sk-container\" hidden><div class=\"sk-item\"><div class=\"sk-estimator sk-toggleable\"><input class=\"sk-toggleable__control sk-hidden--visually\" id=\"sk-estimator-id-2\" type=\"checkbox\" checked><label for=\"sk-estimator-id-2\" class=\"sk-toggleable__label sk-toggleable__label-arrow\">RandomForestRegressor</label><div class=\"sk-toggleable__content\"><pre>RandomForestRegressor(max_depth=6, max_features=3)</pre></div></div></div></div></div>"
      ],
      "text/plain": [
       "RandomForestRegressor(max_depth=6, max_features=3)"
      ]
     },
     "execution_count": 6,
     "metadata": {},
     "output_type": "execute_result"
    }
   ],
   "source": [
    "import mlflow\n",
    "\n",
    "from sklearn.model_selection import train_test_split\n",
    "from sklearn.datasets import load_diabetes\n",
    "from sklearn.ensemble import RandomForestRegressor\n",
    "\n",
    "import os\n",
    "os.environ['MLFLOW_S3_ENDPOINT_URL'] = \"http://10.43.101.149:9000\"\n",
    "os.environ['AWS_ACCESS_KEY_ID'] = 'admin'\n",
    "os.environ['AWS_SECRET_ACCESS_KEY'] = 'supersecret'\n",
    "\n",
    "db = load_diabetes()\n",
    "X_train, X_test, y_train, y_test = train_test_split(db.data, db.target)\n",
    "\n",
    "# connect to mlflow\n",
    "mlflow.set_tracking_uri(\"http://10.43.101.149:5000\")\n",
    "mlflow.set_experiment(\"mlflow_tracking_examples_class\")\n",
    "\n",
    "# this is the magical stuff\n",
    "mlflow.autolog(log_input_examples=True, log_model_signatures=True)\n",
    "\n",
    "# train the model\n",
    "rf = RandomForestRegressor(n_estimators=100, max_depth=6, max_features=3)\n",
    "rf.fit(X_train, y_train)"
   ]
  },
  {
   "cell_type": "code",
   "execution_count": null,
   "id": "c59f0b90-8d96-4378-988f-c50824cd4998",
   "metadata": {},
   "outputs": [],
   "source": []
  },
  {
   "cell_type": "code",
   "execution_count": 1,
   "id": "e0037907-07ed-4c8a-b4fa-d00e1cb11378",
   "metadata": {
    "tags": []
   },
   "outputs": [
    {
     "name": "stderr",
     "output_type": "stream",
     "text": [
      "2023/04/27 19:11:48 INFO mlflow.tracking.fluent: Autologging successfully enabled for sklearn.\n"
     ]
    }
   ],
   "source": [
    "import mlflow\n",
    "\n",
    "from sklearn.model_selection import train_test_split\n",
    "from sklearn.datasets import load_diabetes\n",
    "from sklearn.ensemble import RandomForestRegressor\n",
    "\n",
    "import os\n",
    "os.environ['MLFLOW_S3_ENDPOINT_URL'] = \"http://10.43.101.149:9000\"\n",
    "os.environ['AWS_ACCESS_KEY_ID'] = 'admin'\n",
    "os.environ['AWS_SECRET_ACCESS_KEY'] = 'supersecret'\n",
    "\n",
    "db = load_diabetes()\n",
    "X_train, X_test, y_train, y_test = train_test_split(db.data, db.target)\n",
    "\n",
    "# connect to mlflow\n",
    "mlflow.set_tracking_uri(\"http://10.43.101.149:5000\")\n",
    "mlflow.set_experiment(\"mlflow_tracking_examples_class\")\n",
    "\n",
    "mlflow.autolog(log_model_signatures=True, log_input_examples=True)\n",
    "\n",
    "with mlflow.start_run(run_name=\"autolog_with_named_run\") as run:\n",
    "    rf = RandomForestRegressor(n_estimators=100, max_depth=6, max_features=3)\n",
    "    rf.fit(X_train, y_train)"
   ]
  },
  {
   "cell_type": "code",
   "execution_count": null,
   "id": "04e15e37-f713-413b-9c4e-cae2cf66c64b",
   "metadata": {},
   "outputs": [],
   "source": []
  },
  {
   "cell_type": "code",
   "execution_count": 2,
   "id": "134fe830-86f9-474f-a1d4-5d3371434461",
   "metadata": {
    "tags": []
   },
   "outputs": [
    {
     "name": "stderr",
     "output_type": "stream",
     "text": [
      "2023/04/27 19:16:54 INFO mlflow.tracking.fluent: Autologging successfully enabled for sklearn.\n"
     ]
    }
   ],
   "source": [
    "import mlflow\n",
    "\n",
    "from sklearn.model_selection import train_test_split\n",
    "from sklearn.datasets import load_diabetes\n",
    "from sklearn.ensemble import RandomForestRegressor\n",
    "\n",
    "import os\n",
    "os.environ['MLFLOW_S3_ENDPOINT_URL'] = \"http://10.43.101.149:9000\"\n",
    "os.environ['AWS_ACCESS_KEY_ID'] = 'admin'\n",
    "os.environ['AWS_SECRET_ACCESS_KEY'] = 'supersecret'\n",
    "\n",
    "db = load_diabetes()\n",
    "X_train, X_test, y_train, y_test = train_test_split(db.data, db.target)\n",
    "\n",
    "# connect to mlflow\n",
    "mlflow.set_tracking_uri(\"http://10.43.101.149:5000\")\n",
    "mlflow.set_experiment(\"mlflow_tracking_examples_class\")\n",
    "\n",
    "mlflow.autolog(log_model_signatures=True, log_input_examples=True)\n",
    "\n",
    "with mlflow.start_run(run_name=\"main_run_for_nested\") as run:\n",
    "    for estimators in range(20, 100, 20):\n",
    "        with mlflow.start_run(run_name=f\"nested_{estimators}_estimators\", nested=True) as nested:\n",
    "            rf = RandomForestRegressor(n_estimators=estimators, max_depth=6, max_features=3)\n",
    "            rf.fit(X_train, y_train)"
   ]
  },
  {
   "cell_type": "code",
   "execution_count": null,
   "id": "e4074e92-d02b-4d4d-a58e-5f596fe2e946",
   "metadata": {},
   "outputs": [],
   "source": []
  },
  {
   "cell_type": "code",
   "execution_count": null,
   "id": "aa6a7a07-025d-4660-8184-8f578135f1f3",
   "metadata": {},
   "outputs": [],
   "source": []
  },
  {
   "cell_type": "code",
   "execution_count": 3,
   "id": "9d8a1e56-f9aa-4732-930d-94f62c202435",
   "metadata": {
    "tags": []
   },
   "outputs": [
    {
     "name": "stderr",
     "output_type": "stream",
     "text": [
      "2023/04/27 19:19:00 INFO mlflow.tracking.fluent: Autologging successfully enabled for sklearn.\n",
      "2023/04/27 19:19:23 INFO mlflow.sklearn.utils: Logging the 5 best runs, 22 runs will be omitted.\n"
     ]
    }
   ],
   "source": [
    "import mlflow\n",
    "\n",
    "from sklearn.model_selection import train_test_split\n",
    "from sklearn.datasets import load_diabetes\n",
    "from sklearn.ensemble import RandomForestRegressor\n",
    "from sklearn.model_selection import GridSearchCV\n",
    "\n",
    "import os\n",
    "os.environ['MLFLOW_S3_ENDPOINT_URL'] = \"http://10.43.101.149:9000\"\n",
    "os.environ['AWS_ACCESS_KEY_ID'] = 'admin'\n",
    "os.environ['AWS_SECRET_ACCESS_KEY'] = 'supersecret'\n",
    "\n",
    "db = load_diabetes()\n",
    "X_train, X_test, y_train, y_test = train_test_split(db.data, db.target)\n",
    "\n",
    "# connect to mlflow\n",
    "mlflow.set_tracking_uri(\"http://10.43.101.149:5000\")\n",
    "mlflow.set_experiment(\"mlflow_tracking_examples_class\")\n",
    "\n",
    "mlflow.autolog(log_model_signatures=True, log_input_examples=True)\n",
    "\n",
    "params = {\n",
    "  \"n_estimators\": [33, 66, 200],\n",
    "  \"max_depth\": [2, 4, 6],\n",
    "  \"max_features\": [3, 4, 5]\n",
    "}\n",
    "\n",
    "rf = RandomForestRegressor()\n",
    "searcher = GridSearchCV(estimator=rf, param_grid=params)\n",
    "\n",
    "with mlflow.start_run(run_name=\"autolog_with_grid_search\") as run:\n",
    "    searcher.fit(X_train, y_train)"
   ]
  },
  {
   "cell_type": "code",
   "execution_count": null,
   "id": "73623d3a-e244-46e6-bc31-2d13050d7b42",
   "metadata": {},
   "outputs": [],
   "source": []
  }
 ],
 "metadata": {
  "kernelspec": {
   "display_name": "Python 3 (ipykernel)",
   "language": "python",
   "name": "python3"
  },
  "language_info": {
   "codemirror_mode": {
    "name": "ipython",
    "version": 3
   },
   "file_extension": ".py",
   "mimetype": "text/x-python",
   "name": "python",
   "nbconvert_exporter": "python",
   "pygments_lexer": "ipython3",
   "version": "3.9.18"
  }
 },
 "nbformat": 4,
 "nbformat_minor": 5
}
